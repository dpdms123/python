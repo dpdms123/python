{
 "cells": [
  {
   "cell_type": "code",
   "execution_count": 3,
   "metadata": {},
   "outputs": [
    {
     "name": "stdout",
     "output_type": "stream",
     "text": [
      "The chef makes a chicken\n",
      "The chef makes a chicken\n"
     ]
    }
   ],
   "source": [
    "from ChefClassFile import Chef\n",
    "from ChineseChefClassFile import ChineseChef\n",
    "\n",
    "myChef = Chef()\n",
    "myChef.make_chicken()\n",
    "\n",
    "myChinseChef = ChineseChef()\n",
    "myChinseChef.make_chicken()"
   ]
  },
  {
   "cell_type": "code",
   "execution_count": null,
   "metadata": {},
   "outputs": [],
   "source": []
  },
  {
   "cell_type": "code",
   "execution_count": null,
   "metadata": {},
   "outputs": [],
   "source": []
  }
 ],
 "metadata": {
  "interpreter": {
   "hash": "6578ecd6d915a66634f76f796c5eaae638e6d1de31acaece2835e84c6dc97f85"
  },
  "kernelspec": {
   "display_name": "Python 3.9.9 64-bit",
   "language": "python",
   "name": "python3"
  },
  "language_info": {
   "codemirror_mode": {
    "name": "ipython",
    "version": 3
   },
   "file_extension": ".py",
   "mimetype": "text/x-python",
   "name": "python",
   "nbconvert_exporter": "python",
   "pygments_lexer": "ipython3",
   "version": "3.9.9"
  },
  "orig_nbformat": 4
 },
 "nbformat": 4,
 "nbformat_minor": 2
}
